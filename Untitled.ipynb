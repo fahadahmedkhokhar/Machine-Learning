{
 "cells": [
  {
   "cell_type": "code",
   "execution_count": 8,
   "metadata": {},
   "outputs": [
    {
     "name": "stdout",
     "output_type": "stream",
     "text": [
      "[2, 3, 5, 7, 11]\n",
      "[3, 5, 7]\n",
      "[11, 7, 5, 3, 2]\n",
      "[2, 5, 11]\n"
     ]
    }
   ],
   "source": [
    "numbers = [2, 3, 5, 7, 11] \n",
    "print(numbers)\n",
    "print(numbers[1:4])\n",
    "print(numbers[::-1])\n",
    "print(numbers[::2])"
   ]
  },
  {
   "cell_type": "code",
   "execution_count": 14,
   "metadata": {},
   "outputs": [
    {
     "name": "stdout",
     "output_type": "stream",
     "text": [
      "Enter the value56\n",
      "<class 'float'>\n"
     ]
    }
   ],
   "source": [
    "a = float(input(\"Enter the value\"))\n",
    "print(type(a))"
   ]
  },
  {
   "cell_type": "code",
   "execution_count": 21,
   "metadata": {},
   "outputs": [
    {
     "data": {
      "text/plain": [
       "True"
      ]
     },
     "execution_count": 21,
     "metadata": {},
     "output_type": "execute_result"
    }
   ],
   "source": [
    "\"ch\" in \"character\""
   ]
  },
  {
   "cell_type": "code",
   "execution_count": 16,
   "metadata": {},
   "outputs": [
    {
     "name": "stdout",
     "output_type": "stream",
     "text": [
      "Please enter a word: abc\n",
      "You did not enter a palindrome\n"
     ]
    }
   ],
   "source": [
    "word = input(\"Please enter a word: \")\n",
    "reversed_word = word[::-1]\n",
    "if word == reversed_word:\n",
    "    print(\"Hooray! You entered a palindrome\")\n",
    "else:\n",
    "    print(\"You did not enter a palindrome\")\n"
   ]
  },
  {
   "cell_type": "code",
   "execution_count": 19,
   "metadata": {},
   "outputs": [
    {
     "name": "stdout",
     "output_type": "stream",
     "text": [
      "This is value of j 1\n",
      "This is value of i 1\n",
      "This is value of j 2\n",
      "This is value of i 1\n",
      "This is value of j 3\n",
      "This is value of i 1\n",
      "This is value of j 4\n",
      "This is value of i 1\n",
      "This is value of j 1\n",
      "This is value of i 2\n",
      "This is value of j 2\n",
      "This is value of i 2\n",
      "This is value of j 3\n",
      "This is value of i 2\n",
      "This is value of j 4\n",
      "This is value of i 2\n",
      "This is value of j 1\n",
      "This is value of i 3\n",
      "This is value of j 2\n",
      "This is value of i 3\n",
      "This is value of j 3\n",
      "This is value of i 3\n",
      "This is value of j 4\n",
      "This is value of i 3\n",
      "This is value of j 1\n",
      "This is value of i 4\n",
      "This is value of j 2\n",
      "This is value of i 4\n",
      "This is value of j 3\n",
      "This is value of i 4\n",
      "This is value of j 4\n",
      "This is value of i 4\n",
      "This is value of j 1\n",
      "This is value of i 5\n",
      "This is value of j 2\n",
      "This is value of i 5\n",
      "This is value of j 3\n",
      "This is value of i 5\n",
      "This is value of j 4\n",
      "This is value of i 5\n",
      "This is value of j 1\n",
      "This is value of i 6\n",
      "This is value of j 2\n",
      "This is value of i 6\n",
      "This is value of j 3\n",
      "This is value of i 6\n",
      "This is value of j 4\n",
      "This is value of i 6\n",
      "This is value of j 1\n",
      "This is value of i 7\n",
      "This is value of j 2\n",
      "This is value of i 7\n",
      "This is value of j 3\n",
      "This is value of i 7\n",
      "This is value of j 4\n",
      "This is value of i 7\n",
      "This is value of j 1\n",
      "This is value of i 8\n",
      "This is value of j 2\n",
      "This is value of i 8\n",
      "This is value of j 3\n",
      "This is value of i 8\n",
      "This is value of j 4\n",
      "This is value of i 8\n",
      "This is value of j 1\n",
      "This is value of i 9\n",
      "This is value of j 2\n",
      "This is value of i 9\n",
      "This is value of j 3\n",
      "This is value of i 9\n",
      "This is value of j 4\n",
      "This is value of i 9\n"
     ]
    }
   ],
   "source": [
    "for i in range(1,10):\n",
    "    for j in range(1,5):\n",
    "        print(\"This is value of j\",j)\n",
    "        print(\"This is value of i\",i)"
   ]
  }
 ],
 "metadata": {
  "kernelspec": {
   "display_name": "Python 3",
   "language": "python",
   "name": "python3"
  },
  "language_info": {
   "codemirror_mode": {
    "name": "ipython",
    "version": 3
   },
   "file_extension": ".py",
   "mimetype": "text/x-python",
   "name": "python",
   "nbconvert_exporter": "python",
   "pygments_lexer": "ipython3",
   "version": "3.7.1"
  }
 },
 "nbformat": 4,
 "nbformat_minor": 2
}
